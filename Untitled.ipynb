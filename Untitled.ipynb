{
 "cells": [
  {
   "cell_type": "code",
   "execution_count": 1,
   "id": "9e97c582",
   "metadata": {},
   "outputs": [],
   "source": [
    "import pandas as pd\n",
    "# sales data of a shop\n",
    "dates = [\"2020-12-29\", \"2020-12-30\", \"2021-01-01\", \"2021-01-02\",\"2021-01-04\", \"2021-01-05\"]\n",
    "units_sold = [10, 8, 21, 16, 12,20]\n",
    "# create the dataframe\n",
    "df = pd.DataFrame({\n",
    "    \"Purchase_Date\": dates,\n",
    "    \"Sales\": units_sold\n",
    "})"
   ]
  },
  {
   "cell_type": "code",
   "execution_count": 2,
   "id": "39a1a27f",
   "metadata": {},
   "outputs": [],
   "source": [
    "\n",
    "# convert the Purchase Date to datetime\n",
    "df['Purchase_Date'] = pd.to_datetime(df['Purchase_Date'])\n",
    "# add a column for Year\n",
    "df['Year'] = df['Purchase_Date'].dt.year"
   ]
  },
  {
   "cell_type": "code",
   "execution_count": 3,
   "id": "6ededc24",
   "metadata": {},
   "outputs": [
    {
     "name": "stdout",
     "output_type": "stream",
     "text": [
      "  Purchase_Date  Sales  Year\n",
      "0    2020-12-29     10  2020\n",
      "1    2020-12-30      8  2020\n",
      "2    2021-01-01     21  2021\n",
      "3    2021-01-02     16  2021\n",
      "4    2021-01-04     12  2021\n",
      "5    2021-01-05     20  2021\n",
      "<class 'pandas.core.frame.DataFrame'>\n",
      "RangeIndex: 6 entries, 0 to 5\n",
      "Data columns (total 3 columns):\n",
      " #   Column         Non-Null Count  Dtype         \n",
      "---  ------         --------------  -----         \n",
      " 0   Purchase_Date  6 non-null      datetime64[ns]\n",
      " 1   Sales          6 non-null      int64         \n",
      " 2   Year           6 non-null      int64         \n",
      "dtypes: datetime64[ns](1), int64(2)\n",
      "memory usage: 272.0 bytes\n"
     ]
    }
   ],
   "source": [
    "\n",
    "# print the dataframe\n",
    "print(df)\n",
    "df.info()\n"
   ]
  },
  {
   "cell_type": "code",
   "execution_count": 4,
   "id": "3ca6070d",
   "metadata": {},
   "outputs": [],
   "source": [
    "# import plotly.express as px\n",
    "\n",
    "# # fig = px.line(df, x='date', y=\"GOOG\")\n",
    "# fig = px.line(df, x='Purchase_Date', y=\"Sales\")\n",
    "# fig.add_vline(x=df['Purchase_Date'][2], line_width=3, line_dash=\"dash\", line_color=\"green\")\n",
    "\n",
    "# fig.show()\n",
    "# # dcc.RangeSlider(\n",
    "# #                 id='Purchase Date',\n",
    "# #                 min = unixTimeMillis(daterange.min()),\n",
    "# #                 max = unixTimeMillis(daterange.max()),\n",
    "# #                 value = [unixTimeMillis(daterange.min()),\n",
    "# #                          unixTimeMillis(daterange.max())],\n",
    "# #                 marks=getMarks(daterange.min(),\n",
    "# #                             daterange.max())\n",
    "# #             )"
   ]
  },
  {
   "cell_type": "code",
   "execution_count": 17,
   "id": "df1b14f3",
   "metadata": {},
   "outputs": [
    {
     "name": "stdout",
     "output_type": "stream",
     "text": [
      "Dash app running on http://127.0.0.1:8050/\n"
     ]
    }
   ],
   "source": [
    "from dash import Dash, dcc, html, Input, Output,State\n",
    "import plotly.express as px\n",
    "import jupyter_dash \n",
    "\n",
    "\n",
    "\n",
    "\n",
    "app=jupyter_dash.JupyterDash()\n",
    "\n",
    "app.layout = html.Div([\n",
    "    \n",
    "    html.H4(' plot an interactive horizontal line'),\n",
    "    dcc.Graph(id=\"graph\"),\n",
    "  html.P(\"Position of hline 'write date as year-month-day'  \"),\n",
    "#     dcc.Input(id=\"my-input\",type='datetime-local') \n",
    "    dcc.Input(id=\"my-input\",type=\"text\",\n",
    "            debounce=True, placeholder=\"\")\n",
    "])\n",
    "\n",
    "\n",
    "@app.callback(\n",
    "    Output(\"graph\", \"figure\"), \n",
    "    Input('my-input',\"value\")\n",
    "    \n",
    ")\n",
    "\n",
    "def display_graph(pos_x):\n",
    "    \n",
    "    if pos_x==None:\n",
    "        fig = px.line(df, x='Purchase_Date', y=\"Sales\", markers=True,template=\"simple_white\")\n",
    "    else:\n",
    "        \n",
    "        if pd.to_datetime(pos_x) in df['Purchase_Date'].unique():\n",
    "                 fig = px.line(df, x='Purchase_Date', y=\"Sales\", markers=True,template=\"simple_white\")\n",
    "                 fig.add_vline(x=pos_x, line_width=3, line_dash=\"dash\", line_color=\"green\")\n",
    "        else:\n",
    "            fig = px.line(df, x='Purchase_Date', y=\"Sales\", markers=True,template=\"simple_white\")\n",
    "            fig.add_vline(x=pos_x, line_width=3, line_dash=\"dash\", line_color=\"green\")\n",
    "            index=df.Purchase_Date.searchsorted(pos_x)\n",
    "            fig.add_vrect(x0=df['Purchase_Date'][index-1], x1=df['Purchase_Date'][index], \n",
    "            fillcolor=\"white\", opacity=1, line_width=0)\n",
    "            \n",
    "#             fig.add_vline(x=pos_x, line_width=3, line_dash=\"dash\", line_color=\"green\")\n",
    "\n",
    "    \n",
    "    return fig\n",
    "\n",
    "\n",
    "app.run_server(debug=True)"
   ]
  },
  {
   "cell_type": "code",
   "execution_count": 6,
   "id": "6605bd31",
   "metadata": {},
   "outputs": [
    {
     "name": "stdout",
     "output_type": "stream",
     "text": [
      "2\n"
     ]
    }
   ],
   "source": [
    "#  https://stackoverflow.com/questions/42264848/pandas-dataframe-how-to-query-the-closest-datetime-index\n",
    "# https://kanoki.org/2022/02/09/how-to-find-closest-date-in-dataframe-for-a-given-date/\n",
    "if pd.to_datetime(\"2021-01-01\") in df['Purchase_Date'].unique():\n",
    "      print(df.Purchase_Date.searchsorted(\"2020-12-31\"))\n",
    "\n",
    "    \n",
    "    \n",
    "#     dt_New = pd.to_datetime(\"2021-01-03\")\n",
    "#     print (dt_New)\n",
    "#     print (df.index.get_loc(dt_New, method='nearest'))\n",
    "#     idx = df.index[df.Purchase_Date.get_loc(dt_New, method='nearest')]\n",
    "#     print (idx)\n",
    "    \n",
    "    \n",
    "    # today is 2021-2-13, so most recent would be 2021-2-1:\n",
    "    # print(pd.DatetimeIndex(df['Purchase_Date']).get_loc(pd.Timestamp('2020-12-31'), method='pad'))"
   ]
  },
  {
   "cell_type": "code",
   "execution_count": null,
   "id": "0993075d",
   "metadata": {},
   "outputs": [],
   "source": []
  }
 ],
 "metadata": {
  "kernelspec": {
   "display_name": "Python 3 (ipykernel)",
   "language": "python",
   "name": "python3"
  },
  "language_info": {
   "codemirror_mode": {
    "name": "ipython",
    "version": 3
   },
   "file_extension": ".py",
   "mimetype": "text/x-python",
   "name": "python",
   "nbconvert_exporter": "python",
   "pygments_lexer": "ipython3",
   "version": "3.9.7"
  }
 },
 "nbformat": 4,
 "nbformat_minor": 5
}
